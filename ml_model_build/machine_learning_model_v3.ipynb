{
 "cells": [
  {
   "cell_type": "code",
   "execution_count": 1,
   "metadata": {},
   "outputs": [
    {
     "name": "stdout",
     "output_type": "stream",
     "text": [
      "Probability of releasing ADS is: 0.9235021046610568\n"
     ]
    }
   ],
   "source": [
    "#-*-coding:utf8-*-\n",
    "# step1: data processing\n",
    "# step2: loading machine learning model and predict users' behaviour\n",
    "#need to be added the condition for NaN\n",
    "\n",
    "import pandas as pd\n",
    "import string, re, collections\n",
    "from collections import namedtuple\n",
    "import numpy as np\n",
    "import sklearn\n",
    "from sklearn import metrics\n",
    "from sklearn.model_selection import train_test_split\n",
    "from sklearn.externals import joblib\n",
    "from wilson_modules import data_process\n",
    "\n",
    "\n",
    "\n",
    "if __name__ == \"__main__\":\n",
    "\n",
    "    signature_test = {\"user_nickname\":[\"wo是金融$\"],\"signature\":[\"我来测试一下，多伦多看看好用不？\"]}\n",
    "    df_name_sig =  pd.DataFrame(signature_test)\n",
    "    df_name_sig['signature'] = df_name_sig['signature'].fillna(0)\n",
    "    df_string = data_process.apply_and_concat(df_name_sig, 'signature', data_process.string_len, ['count_en', 'count_dg', 'count_sp', 'count_zh', 'count_pu'])\n",
    "    df_string['ads_status'] = df_name_sig['signature'].apply(data_process.ads_search)\n",
    "    df_string['phone_status'] = df_name_sig['signature'].apply(data_process.phone_search)\n",
    "    df_string['phone_status'] = df_name_sig['signature'].apply(data_process.phone_search)\n",
    "    df_string = data_process.apply_and_concat(df_string, 'signature', data_process.count_words, ['kind_words', 'num_words'])\n",
    "    \n",
    "    df_string['name_status'] = df_name_sig['user_nickname'].apply(data_process.ads_search)\n",
    "    df_string['name_phone'] = df_name_sig['user_nickname'].apply(data_process.phone_search)\n",
    "    df_string.drop(['user_nickname','signature'],axis=1,inplace=True)\n",
    "    x_test = df_string.drop(['count_pu','count_dg','count_zh'],axis=1)\n",
    "    # predict users' behaviour\n",
    "    model = joblib.load('./ML_model/machinelearning_model_svm.pkl')\n",
    "    P = model.predict_proba(x_test)\n",
    "    # output = ['Probability of ads' 'Prob of not ads']\n",
    "    print(\"Probability of releasing ADS is: %s\"% P[0][0])\n",
    "    "
   ]
  },
  {
   "cell_type": "code",
   "execution_count": null,
   "metadata": {},
   "outputs": [],
   "source": []
  }
 ],
 "metadata": {
  "kernelspec": {
   "display_name": "Python 3",
   "language": "python",
   "name": "python3"
  },
  "language_info": {
   "codemirror_mode": {
    "name": "ipython",
    "version": 3
   },
   "file_extension": ".py",
   "mimetype": "text/x-python",
   "name": "python",
   "nbconvert_exporter": "python",
   "pygments_lexer": "ipython3",
   "version": "3.5.2"
  }
 },
 "nbformat": 4,
 "nbformat_minor": 2
}
