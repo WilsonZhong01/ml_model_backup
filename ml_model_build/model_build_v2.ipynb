{
 "cells": [
  {
   "cell_type": "code",
   "execution_count": 1,
   "metadata": {},
   "outputs": [
    {
     "name": "stdout",
     "output_type": "stream",
     "text": [
      "=============NeuralNetwork==============\n",
      "training time is: 0.15706896781921387\n",
      "precision is 0.7515923566878981\n",
      "accuracy is: 0.7558139534883721\n"
     ]
    }
   ],
   "source": [
    "# -*-coding:utf8-*-\n",
    "import pandas as pd\n",
    "import sklearn, time\n",
    "import numpy as np\n",
    "from sklearn import metrics\n",
    "from sklearn.model_selection import train_test_split\n",
    "from wilson_modules import machine_learning_build\n",
    "\n",
    "if __name__ == \"__main__\":\n",
    "    # loading data and training machine learning model\n",
    "    #  df = pd.read_csv('/home/wilson/Desktop/databases/db_labelled.csv')\n",
    "    df = pd.read_csv('/home/wilson/Desktop/databases/db_labelled.csv')\n",
    "    df.drop(['user_nickname','content','signature'],axis=1,inplace=True)\n",
    "    df.dropna(subset=['LABEL'],inplace=True)\n",
    "    train_set, test_set = train_test_split(df, test_size=0.2, random_state=42)\n",
    "    x_train = train_set.drop(['count_pu','count_dg','count_zh','LABEL'],axis=1)\n",
    "    y_train = train_set['LABEL'].copy()\n",
    "    x_test = test_set.drop(['count_pu','count_dg','count_zh','LABEL'],axis=1)\n",
    "    y_test = test_set['LABEL'].copy()\n",
    "    \n",
    "    start_time = time.time()\n",
    "    print(\"=============%s==============\"%\"NeuralNetwork\")\n",
    "    model = machine_learning_build.svm(x_train, y_train)\n",
    "    end_time = time.time()\n",
    "    print(\"training time is: %s\"%(end_time-start_time))\n",
    "    predict= model.predict(x_test)\n",
    "    precision = metrics.precision_score(y_test, predict)\n",
    "    print('precision is %s' % precision)\n",
    "    recall = metrics.recall_score(y_test, predict)\n",
    "    accuracy = metrics.accuracy_score(y_test, predict)\n",
    "    print('accuracy is: %s' % accuracy)"
   ]
  },
  {
   "cell_type": "code",
   "execution_count": 2,
   "metadata": {},
   "outputs": [
    {
     "data": {
      "text/plain": [
       "['./ML_model/machinelearning_model_svm.pkl']"
      ]
     },
     "execution_count": 2,
     "metadata": {},
     "output_type": "execute_result"
    }
   ],
   "source": [
    "from sklearn.externals import joblib\n",
    "joblib.dump(model, './ML_model/machinelearning_model_svm.pkl') "
   ]
  },
  {
   "cell_type": "code",
   "execution_count": 3,
   "metadata": {},
   "outputs": [],
   "source": [
    "# ml_model = joblib.load('machinelearning_model.pkl')"
   ]
  },
  {
   "cell_type": "code",
   "execution_count": null,
   "metadata": {},
   "outputs": [],
   "source": []
  }
 ],
 "metadata": {
  "kernelspec": {
   "display_name": "Python 3",
   "language": "python",
   "name": "python3"
  },
  "language_info": {
   "codemirror_mode": {
    "name": "ipython",
    "version": 3
   },
   "file_extension": ".py",
   "mimetype": "text/x-python",
   "name": "python",
   "nbconvert_exporter": "python",
   "pygments_lexer": "ipython3",
   "version": "3.5.2"
  }
 },
 "nbformat": 4,
 "nbformat_minor": 2
}
