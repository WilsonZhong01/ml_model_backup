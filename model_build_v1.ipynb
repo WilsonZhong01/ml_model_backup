{
 "cells": [
  {
   "cell_type": "code",
   "execution_count": 1,
   "metadata": {},
   "outputs": [],
   "source": [
    "# -*-coding:utf8-*-\n",
    "import pandas as pd\n",
    "import sklearn, time\n",
    "import numpy as np\n",
    "from sklearn import metrics\n",
    "from sklearn.model_selection import train_test_split"
   ]
  },
  {
   "cell_type": "code",
   "execution_count": 2,
   "metadata": {},
   "outputs": [],
   "source": [
    "# Multinomial Naive Bayes Classifier\n",
    "\n",
    "def naive_bayes(x_train, y_train):\n",
    "    from sklearn.naive_bayes import MultinomialNB\n",
    "    model = MultinomialNB(alpha=0.01)\n",
    "    model.fit(x_train, y_train)\n",
    "    return model\n",
    "# KNN classifier\n",
    "\n",
    "def knn(x_train, y_train):\n",
    "    from sklearn.neighbors import KNeighborsClassifier\n",
    "    model = KNeighborsClassifier()\n",
    "    model.fit(x_train, y_train)\n",
    "    return model\n",
    "\n",
    "# logistic Regression classifier\n",
    "def logistic_regression(x_train, y_train):\n",
    "    from sklearn.linear_model import LogisticRegression\n",
    "    model = LogisticRegression(penalty = 'l2')\n",
    "    model.fit(x_train, y_train)\n",
    "    return model\n",
    "\n",
    "# Random Forest Classifier    \n",
    "def random_forest(x_train, y_train):    \n",
    "    from sklearn.ensemble import RandomForestClassifier    \n",
    "    model = RandomForestClassifier(n_estimators=8)    \n",
    "    model.fit(x_train, y_train)    \n",
    "    return model \n",
    "\n",
    "# Decision Tree Classifier    \n",
    "def decision_tree(x_train, y_train):    \n",
    "    from sklearn import tree    \n",
    "    model = tree.DecisionTreeClassifier()    \n",
    "    model.fit(x_train, y_train)    \n",
    "    return model    \n",
    "    \n",
    "    \n",
    "# GBDT(Gradient Boosting Decision Tree) Classifier    \n",
    "def gradient_boosting(x_train, y_train):    \n",
    "    from sklearn.ensemble import GradientBoostingClassifier    \n",
    "    model = GradientBoostingClassifier(n_estimators=200)    \n",
    "    model.fit(x_train, y_train)    \n",
    "    return model    \n",
    "    \n",
    "    \n",
    "# SVM Classifier    \n",
    "def svm(x_train, y_train):    \n",
    "    from sklearn.svm import SVC    \n",
    "    model = SVC(kernel='rbf', probability=True)    \n",
    "    model.fit(x_train, y_train)    \n",
    "    return model   \n",
    "\n",
    "# NN classifier\n",
    "def neural_network(x_train, y_train):\n",
    "    from sklearn.neural_network import MLPClassifier\n",
    "    model = MLPClassifier(solver='lbfgs',alpha=1e-5, hidden_layer_sizes=(5,3),random_state=1)\n",
    "#     model = MLPClassifier(solver='sgd', activation='relu',alpha=1e-4,hidden_layer_sizes=(50,50), random_state=1,max_iter=10,verbose=10,learning_rate_init=.1)\n",
    "    model.fit(x_train, y_train)\n",
    "    return model"
   ]
  },
  {
   "cell_type": "code",
   "execution_count": 3,
   "metadata": {},
   "outputs": [],
   "source": [
    "# df = pd.read_csv('/home/wilson/Desktop/databases/db_labelled.csv')\n",
    "df = pd.read_csv('/home/wilson/Desktop/databases/trainingset_1.csv')\n",
    "df.drop(['user_nickname','content','signature'],axis=1,inplace=True)"
   ]
  },
  {
   "cell_type": "code",
   "execution_count": 4,
   "metadata": {},
   "outputs": [
    {
     "data": {
      "text/plain": [
       "False"
      ]
     },
     "execution_count": 4,
     "metadata": {},
     "output_type": "execute_result"
    }
   ],
   "source": [
    "# handling NaN data in the database\n",
    "np.isnan(df['LABEL']).any()"
   ]
  },
  {
   "cell_type": "code",
   "execution_count": 5,
   "metadata": {},
   "outputs": [],
   "source": [
    "# df[df['LABEL'].isnull()]"
   ]
  },
  {
   "cell_type": "code",
   "execution_count": 6,
   "metadata": {},
   "outputs": [],
   "source": [
    "# df.dropna(subset=['LABEL'],inplace=True)"
   ]
  },
  {
   "cell_type": "code",
   "execution_count": 7,
   "metadata": {},
   "outputs": [
    {
     "data": {
      "text/plain": [
       "LABEL           1.000000\n",
       "name_status     0.305579\n",
       "ads_status      0.264339\n",
       "phone_status    0.152416\n",
       "name_phone      0.141382\n",
       "count_en        0.049052\n",
       "num_words       0.025633\n",
       "count_sp        0.021497\n",
       "kind_words      0.020175\n",
       "count_pu       -0.011326\n",
       "count_dg       -0.092567\n",
       "count_zh       -0.158515\n",
       "Name: LABEL, dtype: float64"
      ]
     },
     "execution_count": 7,
     "metadata": {},
     "output_type": "execute_result"
    }
   ],
   "source": [
    "df_y = df['LABEL']\n",
    "# check the correlation between x and y\n",
    "corr_matrix = df.corr()\n",
    "corr_matrix['LABEL'].sort_values(ascending=False)"
   ]
  },
  {
   "cell_type": "code",
   "execution_count": 8,
   "metadata": {},
   "outputs": [
    {
     "data": {
      "text/plain": [
       "(687, 12)"
      ]
     },
     "execution_count": 8,
     "metadata": {},
     "output_type": "execute_result"
    }
   ],
   "source": [
    "train_set, test_set = train_test_split(df, test_size=0.2, random_state=42)\n",
    "train_set.shape"
   ]
  },
  {
   "cell_type": "code",
   "execution_count": 9,
   "metadata": {},
   "outputs": [],
   "source": [
    "x_train = train_set.drop(['count_pu','count_dg','count_zh','LABEL'],axis=1)\n",
    "y_train = train_set['LABEL'].copy()\n",
    "# x_train.describe()"
   ]
  },
  {
   "cell_type": "code",
   "execution_count": 10,
   "metadata": {},
   "outputs": [],
   "source": [
    "x_test = test_set.drop(['count_pu','count_dg','count_zh','LABEL'],axis=1)\n",
    "y_test = test_set['LABEL'].copy()"
   ]
  },
  {
   "cell_type": "code",
   "execution_count": 11,
   "metadata": {},
   "outputs": [],
   "source": [
    "classifiers_list =['NB','KNN','LR','RF','DT','SVM','GBDT', 'NN']\n",
    "classifiers = {'NB':naive_bayes,     \n",
    "              'KNN':knn,    \n",
    "               'LR':logistic_regression,    \n",
    "               'RF':random_forest,    \n",
    "               'DT':decision_tree,    \n",
    "              'SVM':svm,    \n",
    "             'GBDT':gradient_boosting,   \n",
    "               'NN':neural_network,\n",
    "} "
   ]
  },
  {
   "cell_type": "code",
   "execution_count": 12,
   "metadata": {},
   "outputs": [
    {
     "name": "stdout",
     "output_type": "stream",
     "text": [
      "=============NB==============\n",
      "training time is: 0.0036754608154296875\n",
      "precision is 0.7017543859649122\n",
      "accuracy is: 0.6976744186046512\n",
      "=============KNN==============\n",
      "training time is: 0.0057184696197509766\n",
      "precision is 0.75\n",
      "accuracy is: 0.7267441860465116\n",
      "=============LR==============\n",
      "training time is: 0.01610112190246582\n",
      "precision is 0.7662337662337663\n",
      "accuracy is: 0.7732558139534884\n",
      "=============RF==============\n",
      "training time is: 0.02055644989013672\n",
      "precision is 0.7676056338028169\n",
      "accuracy is: 0.7383720930232558\n",
      "=============DT==============\n",
      "training time is: 0.001032114028930664\n",
      "precision is 0.7746478873239436\n",
      "accuracy is: 0.75\n",
      "=============SVM==============\n",
      "training time is: 0.05894613265991211\n",
      "precision is 0.7612903225806451\n",
      "accuracy is: 0.7674418604651163\n",
      "=============GBDT==============\n",
      "training time is: 0.13405442237854004\n",
      "precision is 0.7692307692307693\n",
      "accuracy is: 0.7441860465116279\n",
      "=============NN==============\n",
      "training time is: 0.0975806713104248\n",
      "precision is 0.7597402597402597\n",
      "accuracy is: 0.7616279069767442\n"
     ]
    }
   ],
   "source": [
    "for classifier in classifiers_list:\n",
    "    start_time = time.time()\n",
    "    print(\"=============%s==============\"%classifier)\n",
    "    model = classifiers[classifier](x_train, y_train)\n",
    "    end_time = time.time()\n",
    "    print(\"training time is: %s\"%(end_time-start_time))\n",
    "    predict= model.predict(x_test)\n",
    "    precision = metrics.precision_score(y_test, predict)\n",
    "    print('precision is %s' % precision)\n",
    "    recall = metrics.recall_score(y_test, predict)\n",
    "    accuracy = metrics.accuracy_score(y_test, predict)\n",
    "    print('accuracy is: %s' % accuracy)\n",
    "#     print(\"Probability distributing: %s\"%model.predict_proba(x_test))"
   ]
  },
  {
   "cell_type": "code",
   "execution_count": null,
   "metadata": {},
   "outputs": [],
   "source": []
  }
 ],
 "metadata": {
  "kernelspec": {
   "display_name": "Python 3",
   "language": "python",
   "name": "python3"
  },
  "language_info": {
   "codemirror_mode": {
    "name": "ipython",
    "version": 3
   },
   "file_extension": ".py",
   "mimetype": "text/x-python",
   "name": "python",
   "nbconvert_exporter": "python",
   "pygments_lexer": "ipython3",
   "version": "3.5.2"
  }
 },
 "nbformat": 4,
 "nbformat_minor": 2
}
