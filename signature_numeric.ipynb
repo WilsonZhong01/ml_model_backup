{
 "cells": [
  {
   "cell_type": "code",
   "execution_count": 1,
   "metadata": {},
   "outputs": [],
   "source": [
    "# -*-coding:utf8-*-\n",
    "from modules import data_process\n",
    "import pandas as pd\n",
    "from my_package import to_mysql"
   ]
  },
  {
   "cell_type": "code",
   "execution_count": 2,
   "metadata": {},
   "outputs": [],
   "source": [
    "df_name_sig = pd.read_csv('/home/wilson/Desktop/databases/content_sig_labeling_withNaN.csv')\n",
    "df_name_sig.drop_duplicates('user_nickname',inplace=True)\n",
    "# dealing with the signature\n",
    "df_name_sig['signature'] = df_name_sig['signature'].fillna(0)\n",
    "df_string = data_process.apply_and_concat(df_name_sig, 'signature', data_process.string_len, ['count_en', 'count_dg', 'count_sp', 'count_zh', 'count_pu'])\n",
    "df_string['ads_status'] = df_name_sig['signature'].apply(data_process.ads_search)\n",
    "df_string['phone_status'] = df_name_sig['signature'].apply(data_process.phone_search)\n",
    "df_string = data_process.apply_and_concat(df_string, 'signature', data_process.count_words, ['kind_words', 'num_words'])\n",
    "# dealing with the user_nickname\n",
    "df_string['name_status'] = df_name_sig['user_nickname'].apply(data_process.ads_search)\n",
    "df_string['name_phone'] = df_name_sig['user_nickname'].apply(data_process.phone_search)"
   ]
  },
  {
   "cell_type": "code",
   "execution_count": 3,
   "metadata": {},
   "outputs": [],
   "source": [
    "df_string.to_csv('/home/wilson/Desktop/databases/signature_scalar.csv', header=True)"
   ]
  },
  {
   "cell_type": "code",
   "execution_count": 4,
   "metadata": {},
   "outputs": [],
   "source": [
    "to_mysql.numeric_save(df_string)"
   ]
  },
  {
   "cell_type": "code",
   "execution_count": 5,
   "metadata": {},
   "outputs": [
    {
     "data": {
      "text/plain": [
       "2159"
      ]
     },
     "execution_count": 5,
     "metadata": {},
     "output_type": "execute_result"
    }
   ],
   "source": [
    "len(df_string)"
   ]
  },
  {
   "cell_type": "code",
   "execution_count": null,
   "metadata": {},
   "outputs": [],
   "source": []
  }
 ],
 "metadata": {
  "kernelspec": {
   "display_name": "Python 3",
   "language": "python",
   "name": "python3"
  },
  "language_info": {
   "codemirror_mode": {
    "name": "ipython",
    "version": 3
   },
   "file_extension": ".py",
   "mimetype": "text/x-python",
   "name": "python",
   "nbconvert_exporter": "python",
   "pygments_lexer": "ipython3",
   "version": "3.5.2"
  }
 },
 "nbformat": 4,
 "nbformat_minor": 2
}
