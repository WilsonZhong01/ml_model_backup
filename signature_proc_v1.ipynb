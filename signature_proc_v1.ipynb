{
 "cells": [
  {
   "cell_type": "code",
   "execution_count": 1,
   "metadata": {},
   "outputs": [],
   "source": [
    "# -*- coding:utf-8-*-\n",
    "import pandas as pd\n",
    "import string, re, collections\n",
    "from collections import namedtuple\n",
    "import numpy as np\n",
    "\n",
    "# check if the feature includes words in our words_library\n",
    "\n",
    "def ads_search(obj_content):\n",
    "    if obj_content:\n",
    "        file_obj = open('/home/wilson/Desktop/databases/words_library.txt', 'r')\n",
    "        words_library = file_obj.read()\n",
    "        ads_library = re.compile(words_library, re.I)\n",
    "#         print(obj_content)\n",
    "        result = ads_library.findall(obj_content)\n",
    "        if result:\n",
    "            \n",
    "            return 0 # exist ads return 0\n",
    "        else:\n",
    "            return 1\n",
    "    else:\n",
    "        return 1\n",
    "\n",
    "\n",
    "# check if the feature includes phone numbers\n",
    "def phone_search(feature_s):\n",
    "    if feature_s:\n",
    "        phone_re = re.compile('(\\d{3}\\D{0,1}\\d{3}\\D{0,1}\\d{4})')\n",
    "        phone_label = phone_re.findall(feature_s)\n",
    "        if phone_label:\n",
    "            return 0# contains 0\n",
    "        else:\n",
    "            #         print(\"This sentence doesn't contain phone num\")\n",
    "            return 1\n",
    "    else:\n",
    "        return 1\n",
    "\n",
    "\n",
    "# count the length of a string\n",
    "def string_len(sentence_in):\n",
    "    count_en = count_dg = count_sp = count_zh = count_pu = 0\n",
    "    if sentence_in:\n",
    "        s_leng = len(sentence_in)\n",
    "        for one in sentence_in:\n",
    "            if one in string.ascii_letters:\n",
    "                count_en += 1\n",
    "            elif one.isdigit():\n",
    "                count_dg += 1\n",
    "            elif one.isspace():\n",
    "                count_sp += 1\n",
    "            elif one.isalpha():\n",
    "                count_zh += 1\n",
    "            else:\n",
    "                count_pu += 1\n",
    "\n",
    "        total_chars = count_en + count_dg + count_sp + count_zh + count_pu\n",
    "        if total_chars == s_leng:\n",
    "            return (count_en, count_dg, count_sp, count_zh, count_pu)\n",
    "        else:\n",
    "            print('String length counting is wrong')\n",
    "            return None\n",
    "    else:\n",
    "        return (count_en, count_dg, count_sp, count_zh, count_pu)\n",
    "\n",
    "\n",
    "# count the num of english words in one signature\n",
    "def count_words(sentence_in):\n",
    "    if sentence_in:\n",
    "        word_find = re.compile('[a-zA-Z0-9]+')\n",
    "        counter = collections.Counter(word_find.findall(sentence_in))\n",
    "        kind_words = len(counter)\n",
    "        num_words = sum(counter.values())\n",
    "        return (kind_words, num_words)\n",
    "    else:\n",
    "        return(0,0)\n",
    "\n",
    "def apply_and_concat(dataframe, field, func, column_names):\n",
    "    return pd.concat((\n",
    "        dataframe,\n",
    "        dataframe[field].apply(\n",
    "            lambda cell: pd.Series(func(cell), index=column_names))), axis=1)\n",
    "\n",
    "\n",
    "\n",
    "if __name__ == \"__main__\":\n",
    "\n",
    "#     df_name_sig = pd.read_csv('/home/wilson/Desktop/databases/content_sig_labeling.csv')\n",
    "    df_name_sig = pd.read_csv('/home/wilson/Desktop/databases/content_sig_labeling_withNaN.csv')\n",
    "\n",
    "    df_name_sig.drop_duplicates('user_nickname',inplace=True)\n",
    "    # dealing with the signature\n",
    "    df_name_sig['signature'] = df_name_sig['signature'].fillna(0)\n",
    "    df_string = apply_and_concat(df_name_sig, 'signature', string_len, ['count_en', 'count_dg', 'count_sp', 'count_zh', 'count_pu'])\n",
    "    df_string['ads_status'] = df_name_sig['signature'].apply(ads_search)\n",
    "    df_string['phone_status'] = df_name_sig['signature'].apply(phone_search)\n",
    "    df_string = apply_and_concat(df_string, 'signature', count_words, ['kind_words', 'num_words'])\n",
    "    # dealing with the user_nickname\n",
    "    df_string['name_status'] = df_name_sig['user_nickname'].apply(ads_search)\n",
    "    df_string['name_phone'] = df_name_sig['user_nickname'].apply(phone_search)\n"
   ]
  },
  {
   "cell_type": "code",
   "execution_count": 2,
   "metadata": {},
   "outputs": [],
   "source": [
    "df_string.to_csv('/home/wilson/Desktop/databases/signature_scalar.csv', header=True)"
   ]
  },
  {
   "cell_type": "code",
   "execution_count": 3,
   "metadata": {},
   "outputs": [],
   "source": [
    "df_update = pd.read_csv('/home/wilson/Desktop/databases/signature_scalar.csv',index_col=0)"
   ]
  },
  {
   "cell_type": "code",
   "execution_count": 4,
   "metadata": {},
   "outputs": [
    {
     "data": {
      "text/html": [
       "<div>\n",
       "<style scoped>\n",
       "    .dataframe tbody tr th:only-of-type {\n",
       "        vertical-align: middle;\n",
       "    }\n",
       "\n",
       "    .dataframe tbody tr th {\n",
       "        vertical-align: top;\n",
       "    }\n",
       "\n",
       "    .dataframe thead th {\n",
       "        text-align: right;\n",
       "    }\n",
       "</style>\n",
       "<table border=\"1\" class=\"dataframe\">\n",
       "  <thead>\n",
       "    <tr style=\"text-align: right;\">\n",
       "      <th></th>\n",
       "      <th>user_nickname</th>\n",
       "      <th>content</th>\n",
       "      <th>region</th>\n",
       "      <th>city</th>\n",
       "      <th>signature</th>\n",
       "      <th>count_en</th>\n",
       "      <th>count_dg</th>\n",
       "      <th>count_sp</th>\n",
       "      <th>count_zh</th>\n",
       "      <th>count_pu</th>\n",
       "      <th>ads_status</th>\n",
       "      <th>phone_status</th>\n",
       "      <th>kind_words</th>\n",
       "      <th>num_words</th>\n",
       "      <th>name_status</th>\n",
       "      <th>name_phone</th>\n",
       "    </tr>\n",
       "  </thead>\n",
       "  <tbody>\n",
       "  </tbody>\n",
       "</table>\n",
       "</div>"
      ],
      "text/plain": [
       "Empty DataFrame\n",
       "Columns: [user_nickname, content, region, city, signature, count_en, count_dg, count_sp, count_zh, count_pu, ads_status, phone_status, kind_words, num_words, name_status, name_phone]\n",
       "Index: []"
      ]
     },
     "execution_count": 4,
     "metadata": {},
     "output_type": "execute_result"
    }
   ],
   "source": [
    "# sometimes the user_nickname is empty, it cannot be converted into numeric variables\n",
    "df_string[df_string['user_nickname'].isnull()]"
   ]
  },
  {
   "cell_type": "code",
   "execution_count": 5,
   "metadata": {},
   "outputs": [],
   "source": [
    "# df_string.head()"
   ]
  },
  {
   "cell_type": "code",
   "execution_count": 6,
   "metadata": {},
   "outputs": [
    {
     "data": {
      "text/plain": [
       "1977"
      ]
     },
     "execution_count": 6,
     "metadata": {},
     "output_type": "execute_result"
    }
   ],
   "source": [
    "len(df_string)"
   ]
  },
  {
   "cell_type": "code",
   "execution_count": null,
   "metadata": {},
   "outputs": [],
   "source": []
  }
 ],
 "metadata": {
  "kernelspec": {
   "display_name": "Python 3",
   "language": "python",
   "name": "python3"
  },
  "language_info": {
   "codemirror_mode": {
    "name": "ipython",
    "version": 3
   },
   "file_extension": ".py",
   "mimetype": "text/x-python",
   "name": "python",
   "nbconvert_exporter": "python",
   "pygments_lexer": "ipython3",
   "version": "3.5.2"
  }
 },
 "nbformat": 4,
 "nbformat_minor": 2
}
