{
 "cells": [
  {
   "cell_type": "code",
   "execution_count": 1,
   "metadata": {},
   "outputs": [
    {
     "name": "stdout",
     "output_type": "stream",
     "text": [
      "=============NeuralNetwork==============\n",
      "training time is: 0.15153121948242188\n",
      "precision is 0.7612903225806451\n",
      "accuracy is: 0.7674418604651163\n"
     ]
    }
   ],
   "source": [
    "# -*-coding:utf8-*-\n",
    "import pandas as pd\n",
    "import sklearn, time\n",
    "import numpy as np\n",
    "from sklearn import metrics\n",
    "from sklearn.model_selection import train_test_split\n",
    "\n",
    "\n",
    "# Multinomial Naive Bayes Classifier\n",
    "\n",
    "def naive_bayes(x_train, y_train):\n",
    "    from sklearn.naive_bayes import MultinomialNB\n",
    "    model = MultinomialNB(alpha=0.01)\n",
    "    model.fit(x_train, y_train)\n",
    "    return model\n",
    "# KNN classifier\n",
    "\n",
    "def knn(x_train, y_train):\n",
    "    from sklearn.neighbors import KNeighborsClassifier\n",
    "    model = KNeighborsClassifier()\n",
    "    model.fit(x_train, y_train)\n",
    "    return model\n",
    "\n",
    "# logistic Regression classifier\n",
    "def logistic_regression(x_train, y_train):\n",
    "    from sklearn.linear_model import LogisticRegression\n",
    "    model = LogisticRegression(penalty = 'l2')\n",
    "    model.fit(x_train, y_train)\n",
    "    return model\n",
    "\n",
    "# Random Forest Classifier    \n",
    "def random_forest(x_train, y_train):    \n",
    "    from sklearn.ensemble import RandomForestClassifier    \n",
    "    model = RandomForestClassifier(n_estimators=8)    \n",
    "    model.fit(x_train, y_train)    \n",
    "    return model \n",
    "\n",
    "# Decision Tree Classifier    \n",
    "def decision_tree(x_train, y_train):    \n",
    "    from sklearn import tree    \n",
    "    model = tree.DecisionTreeClassifier()    \n",
    "    model.fit(x_train, y_train)    \n",
    "    return model    \n",
    "    \n",
    "    \n",
    "# GBDT(Gradient Boosting Decision Tree) Classifier    \n",
    "def gradient_boosting(x_train, y_train):    \n",
    "    from sklearn.ensemble import GradientBoostingClassifier    \n",
    "    model = GradientBoostingClassifier(n_estimators=200)    \n",
    "    model.fit(x_train, y_train)    \n",
    "    return model    \n",
    "    \n",
    "    \n",
    "# SVM Classifier    \n",
    "def svm(x_train, y_train):    \n",
    "    from sklearn.svm import SVC    \n",
    "    model = SVC(kernel='rbf', probability=True)    \n",
    "    model.fit(x_train, y_train)    \n",
    "    return model   \n",
    "\n",
    "# NN classifier\n",
    "def neural_network(x_train, y_train):\n",
    "    from sklearn.neural_network import MLPClassifier\n",
    "    model = MLPClassifier(solver='lbfgs',alpha=1e-5, hidden_layer_sizes=(5,2),random_state=1)\n",
    "#     model = MLPClassifier(solver='sgd', activation='relu',alpha=1e-4,hidden_layer_sizes=(50,50), random_state=1,max_iter=10,verbose=10,learning_rate_init=.1)\n",
    "    model.fit(x_train, y_train)\n",
    "    return model\n",
    "\n",
    "if __name__ == \"__main__\":\n",
    "    # loading data and training machine learning model\n",
    "#     df = pd.read_csv('/home/wilson/Desktop/databases/db_labelled.csv')\n",
    "    df = pd.read_csv('/home/wilson/Desktop/databases/trainingset_1.csv')\n",
    "    df.drop(['user_nickname','content','signature'],axis=1,inplace=True)\n",
    "    df.dropna(subset=['LABEL'],inplace=True)\n",
    "    train_set, test_set = train_test_split(df, test_size=0.2, random_state=42)\n",
    "    x_train = train_set.drop(['count_pu','count_dg','count_zh','LABEL'],axis=1)\n",
    "    y_train = train_set['LABEL'].copy()\n",
    "    x_test = test_set.drop(['count_pu','count_dg','count_zh','LABEL'],axis=1)\n",
    "    y_test = test_set['LABEL'].copy()\n",
    "    \n",
    "    start_time = time.time()\n",
    "    print(\"=============%s==============\"%\"NeuralNetwork\")\n",
    "    model = svm(x_train, y_train)\n",
    "    end_time = time.time()\n",
    "    print(\"training time is: %s\"%(end_time-start_time))\n",
    "    predict= model.predict(x_test)\n",
    "    precision = metrics.precision_score(y_test, predict)\n",
    "    print('precision is %s' % precision)\n",
    "    recall = metrics.recall_score(y_test, predict)\n",
    "    accuracy = metrics.accuracy_score(y_test, predict)\n",
    "    print('accuracy is: %s' % accuracy)"
   ]
  },
  {
   "cell_type": "code",
   "execution_count": 2,
   "metadata": {},
   "outputs": [
    {
     "data": {
      "text/plain": [
       "['machinelearning_model_svm.pkl']"
      ]
     },
     "execution_count": 2,
     "metadata": {},
     "output_type": "execute_result"
    }
   ],
   "source": [
    "from sklearn.externals import joblib\n",
    "joblib.dump(model, 'machinelearning_model_svm.pkl') "
   ]
  },
  {
   "cell_type": "code",
   "execution_count": 3,
   "metadata": {},
   "outputs": [],
   "source": [
    "# ml_model = joblib.load('machinelearning_model.pkl')"
   ]
  },
  {
   "cell_type": "code",
   "execution_count": null,
   "metadata": {},
   "outputs": [],
   "source": []
  }
 ],
 "metadata": {
  "kernelspec": {
   "display_name": "Python 3",
   "language": "python",
   "name": "python3"
  },
  "language_info": {
   "codemirror_mode": {
    "name": "ipython",
    "version": 3
   },
   "file_extension": ".py",
   "mimetype": "text/x-python",
   "name": "python",
   "nbconvert_exporter": "python",
   "pygments_lexer": "ipython3",
   "version": "3.5.2"
  }
 },
 "nbformat": 4,
 "nbformat_minor": 2
}
