{
 "cells": [
  {
   "cell_type": "code",
   "execution_count": 1,
   "metadata": {},
   "outputs": [],
   "source": [
    "# -*- coding: utf-8 -*-\n",
    "import pandas as pd\n",
    "import json\n",
    "import numpy as np"
   ]
  },
  {
   "cell_type": "code",
   "execution_count": 2,
   "metadata": {},
   "outputs": [],
   "source": [
    "def data_prepro(chat_user_info):\n",
    "\n",
    "    region = []\n",
    "    city = []\n",
    "    signature = []\n",
    "    count = 0\n",
    "    for one in chat_user_info:\n",
    "        one_info = json.loads(one)\n",
    "        region.append(one_info[0]['Province'])\n",
    "        city.append(one_info[0]['City'])\n",
    "        signature.append(one_info[0]['Signature'])\n",
    "        # check if the userinfo was saved in database\n",
    "        count += 1\n",
    "        if one_info[0]['Province']:\n",
    "            continue\n",
    "            print(count)\n",
    "            print(one_info[0]['NickName'])\n",
    "    return region, city, signature"
   ]
  },
  {
   "cell_type": "code",
   "execution_count": 3,
   "metadata": {},
   "outputs": [],
   "source": [
    "df_chat = pd.read_csv('/home/wilson/Downloads/group_chat_content(16).csv',encoding='utf_8_sig') # the file's name should be varied\n",
    "df_chat = df_chat.drop(['id','group_displayname','content_type','robot_id','user_signature','region','city','robot_displayname','time'],axis=1)\n",
    "# check if there are NaN data in the dataset\n",
    "# df_chat[df_chat['content'].isnull()]"
   ]
  },
  {
   "cell_type": "code",
   "execution_count": 4,
   "metadata": {},
   "outputs": [],
   "source": [
    "df_chat.dropna(subset=['content'],how='any',inplace=True)\n",
    "# recheck whether the NaN data are still in the dataset\n",
    "# df_chat[df_chat['user_info'].isnull()]"
   ]
  },
  {
   "cell_type": "code",
   "execution_count": 5,
   "metadata": {},
   "outputs": [],
   "source": [
    "# df_chat[df_chat['content'].isnull()]"
   ]
  },
  {
   "cell_type": "code",
   "execution_count": 6,
   "metadata": {},
   "outputs": [
    {
     "data": {
      "text/plain": [
       "13927"
      ]
     },
     "execution_count": 6,
     "metadata": {},
     "output_type": "execute_result"
    }
   ],
   "source": [
    "len(df_chat)"
   ]
  },
  {
   "cell_type": "code",
   "execution_count": 7,
   "metadata": {},
   "outputs": [],
   "source": [
    "chat_user_info = df_chat['user_info'].astype(str)\n",
    "region, city, signature = data_prepro(chat_user_info)"
   ]
  },
  {
   "cell_type": "code",
   "execution_count": 8,
   "metadata": {},
   "outputs": [],
   "source": [
    "# there exit an issue, the code cannot handle empty user_info. What I am doing is find where the empty \n",
    "# 'user_info' is and manually remove it from the mysql database\n",
    "df_chat['region']=region\n",
    "df_chat['city']=city\n",
    "df_chat['signature']= signature\n",
    "# delete spaces in user_nickname\n",
    "df_chat.drop(['user_info'],axis=1,inplace=True)\n",
    "df_chat['user_nickname'] = df_chat['user_nickname'].str.replace(\" \",\"\")\n",
    "# df_chat.to_csv('/home/wilson/Downloads/database/df_chat_trim.csv',index=False, header=True,encoding='utf_8_sig')"
   ]
  },
  {
   "cell_type": "code",
   "execution_count": 9,
   "metadata": {},
   "outputs": [],
   "source": [
    "df_chat.dropna(subset=['user_nickname'],inplace=True)"
   ]
  },
  {
   "cell_type": "code",
   "execution_count": 10,
   "metadata": {},
   "outputs": [],
   "source": [
    "# df.dropna(subset=['LABEL'],inplace=True)"
   ]
  },
  {
   "cell_type": "code",
   "execution_count": 11,
   "metadata": {},
   "outputs": [],
   "source": [
    "df_chat.to_csv('/home/wilson/Desktop/databases/content_sig_labeling_withNaN.csv',index=False, header=True,encoding='utf_8_sig')"
   ]
  },
  {
   "cell_type": "code",
   "execution_count": 12,
   "metadata": {
    "scrolled": true
   },
   "outputs": [
    {
     "data": {
      "text/plain": [
       "13927"
      ]
     },
     "execution_count": 12,
     "metadata": {},
     "output_type": "execute_result"
    }
   ],
   "source": [
    "len(df_chat)"
   ]
  },
  {
   "cell_type": "code",
   "execution_count": null,
   "metadata": {},
   "outputs": [],
   "source": []
  }
 ],
 "metadata": {
  "kernelspec": {
   "display_name": "Python 3",
   "language": "python",
   "name": "python3"
  },
  "language_info": {
   "codemirror_mode": {
    "name": "ipython",
    "version": 3
   },
   "file_extension": ".py",
   "mimetype": "text/x-python",
   "name": "python",
   "nbconvert_exporter": "python",
   "pygments_lexer": "ipython3",
   "version": "3.5.2"
  }
 },
 "nbformat": 4,
 "nbformat_minor": 2
}
